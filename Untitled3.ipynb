{
  "nbformat": 4,
  "nbformat_minor": 0,
  "metadata": {
    "colab": {
      "provenance": [],
      "authorship_tag": "ABX9TyMRyndHLBDf2pyEHQ6cBFXC",
      "include_colab_link": true
    },
    "kernelspec": {
      "name": "python3",
      "display_name": "Python 3"
    },
    "language_info": {
      "name": "python"
    }
  },
  "cells": [
    {
      "cell_type": "markdown",
      "metadata": {
        "id": "view-in-github",
        "colab_type": "text"
      },
      "source": [
        "<a href=\"https://colab.research.google.com/github/Mayanki9/CV/blob/main/Untitled3.ipynb\" target=\"_parent\"><img src=\"https://colab.research.google.com/assets/colab-badge.svg\" alt=\"Open In Colab\"/></a>"
      ]
    },
    {
      "cell_type": "code",
      "source": [
        "import streamlit as st\n",
        "from PIL import Image\n",
        "import json\n",
        "from Classifier import KNearestNeighbours\n",
        "from bs4 import BeautifulSoup\n",
        "import requests, io\n",
        "import PIL.Image\n",
        "from urllib.request import urlopen\n",
        "\n",
        "with open('./Data/movie_data.json', 'r+', encoding='utf-8') as f:\n",
        "    data = json.load(f)\n",
        "with open('./Data/movie_titles.json', 'r+', encoding='utf-8') as f:\n",
        "    movie_titles = json.load(f)\n",
        "hdr = {'User-Agent': 'Mozilla/5.0'}"
      ],
      "metadata": {
        "id": "UFlzuyss-HAM"
      },
      "execution_count": null,
      "outputs": []
    },
    {
      "cell_type": "code",
      "source": [
        "def movie_poster_fetcher(imdb_link):\n",
        "    ## Display Movie Poster\n",
        "    url_data = requests.get(imdb_link, headers=hdr).text\n",
        "    s_data = BeautifulSoup(url_data, 'html.parser')\n",
        "    imdb_dp = s_data.find(\"meta\", property=\"og:image1\")\n",
        "    movie_poster_link = imdb_dp.attrs['content']\n",
        "    u = urlopen(movie_poster_link)\n",
        "    raw_data = u.read()\n",
        "    image = PIL.Image.open(io.BytesIO(raw_data))\n",
        "    image = image.resize((158, 301), )\n",
        "    st.image(image, use_column_width=False)"
      ],
      "metadata": {
        "id": "z7RE9GZ5-7ra"
      },
      "execution_count": null,
      "outputs": []
    },
    {
      "cell_type": "code",
      "source": [
        "def get_movie_info(imdb_link):\n",
        "    url_data = requests.get(imdb_link, headers=hdr).text\n",
        "    s_data = BeautifulSoup(url_data, 'html.parser')\n",
        "    imdb_content = s_data.find(\"meta\", property=\"og:description\")\n",
        "    movie_descr = imdb_content.attrs['content']\n",
        "    movie_descr = str(movie_descr).split('.')\n",
        "    movie_director = movie_descr[0]\n",
        "    movie_cast = str(movie_descr[1]).replace('With', 'Cast: ').strip()\n",
        "    movie_story = 'Story: ' + str(movie_descr[2]).strip() + '.'\n",
        "    rating = s_data.find(\"span\", class_=\"sc-bde20123-1 iZlgcd\").text\n",
        "    movie_rating = 'Total Rating count: ' + str(rating)\n",
        "    return movie_director, movie_cast, movie_story, movie_rating"
      ],
      "metadata": {
        "id": "s4CwZsKM_A1r"
      },
      "execution_count": null,
      "outputs": []
    },
    {
      "cell_type": "code",
      "source": [
        "def KNN_Movie_Recommender(test_point, k):\n",
        "    # Create dummy target variable for the KNN Classifier\n",
        "    target = [0 for item in movie_titles]\n",
        "    # Instantiate object for the Classifier\n",
        "    model = KNearestNeighbours(data, target, test_point, k=k)\n",
        "    # Run the algorithm\n",
        "    model.fit()\n",
        "    # Print list of 10 recommendations < Change value of k for a different number >\n",
        "    table = []\n",
        "    for i in model.indices:\n",
        "        # Returns back movie title and imdb link\n",
        "        table.append([movie_titles[i][0], movie_titles[i][2], data[i][-1]])\n",
        "    print(table)\n",
        "    return table\n",
        "\n",
        "st.set_page_config(\n",
        "    page_title=\"Movie Recommender System\",\n",
        ")"
      ],
      "metadata": {
        "id": "LmBaKaCD_Esv"
      },
      "execution_count": null,
      "outputs": []
    },
    {
      "cell_type": "code",
      "source": [
        "def run():\n",
        "    img1 = Image.open('./meta/logo.jpg')\n",
        "    img1 = img1.resize((250, 250), )\n",
        "    st.image(img1, use_column_width=False)\n",
        "    st.title(\"Movie Recommender System\")\n",
        "    st.markdown('''<h4 style='text-align: left; color: #d73b5c;'>* Data is based \"IMDB 5000 Movie Dataset\"</h4>''',\n",
        "                unsafe_allow_html=True)\n",
        "    genres = ['Action', 'Adventure', 'Animation', 'Biography', 'Comedy', 'Crime', 'Documentary', 'Drama', 'Family',\n",
        "              'Fantasy', 'Film-Noir', 'Game-Show', 'History', 'Horror', 'Music', 'Musical', 'Mystery', 'News',\n",
        "              'Reality-TV', 'Romance', 'Sci-Fi', 'Short', 'Sport', 'Thriller', 'War', 'Western']\n",
        "    movies = [title[0] for title in movie_titles]\n",
        "    category = ['--Select--', 'Movie based', 'Genre based']\n",
        "    cat_op = st.selectbox('Select Recommendation Type', category)\n",
        "    if cat_op == category[0]:\n",
        "        st.warning('Please select Recommendation Type!!')\n",
        "    elif cat_op == category[1]:\n",
        "        select_movie = st.selectbox('Select movie: (Recommendation will be based on this selection)',\n",
        "                                    ['--Select--'] + movies)\n",
        "        dec = st.radio(\"Want to Fetch Movie Poster?\", ('Yes', 'No'))\n",
        "        st.markdown(\n",
        "            '''<h4 style='text-align: left; color: #d73b5c;'>* Fetching a Movie Posters will take a time.\"</h4>''',\n",
        "            unsafe_allow_html=True)\n",
        "        if dec == 'No':\n",
        "            if select_movie == '--Select--':\n",
        "                st.warning('Please select Movie!!')\n",
        "            else:\n",
        "                no_of_reco = st.slider('Number of movies you want Recommended:', min_value=5, max_value=20, step=1)\n",
        "                genres = data[movies.index(select_movie)]\n",
        "                test_points = genres\n",
        "                table = KNN_Movie_Recommender(test_points, no_of_reco + 1)\n",
        "                table.pop(0)\n",
        "                c = 0\n",
        "                st.success('Some of the movies from our Recommendation, have a look below')\n",
        "                for movie, link, ratings in table:\n",
        "                    c += 1\n",
        "                    director, cast, story, total_rat = get_movie_info(link)\n",
        "                    st.markdown(f\"({c})[ {movie}]({link})\")\n",
        "                    st.markdown(director)\n",
        "                    st.markdown(cast)\n",
        "                    st.markdown(story)\n",
        "                    st.markdown(total_rat)\n",
        "                    st.markdown('IMDB Rating: ' + str(ratings) + '⭐')\n",
        "        else:\n",
        "            if select_movie == '--Select--':\n",
        "                st.warning('Please select Movie!!')\n",
        "            else:\n",
        "                no_of_reco = st.slider('Number of movies you want Recommended:', min_value=5, max_value=20, step=1)\n",
        "                genres = data[movies.index(select_movie)]\n",
        "                test_points = genres\n",
        "                table = KNN_Movie_Recommender(test_points, no_of_reco + 1)\n",
        "                table.pop(0)\n",
        "                c = 0\n",
        "                st.success('Some of the movies from our Recommendation, have a look below')\n",
        "                for movie, link, ratings in table:\n",
        "                    c += 1\n",
        "                    st.markdown(f\"({c})[ {movie}]({link})\")\n",
        "                    movie_poster_fetcher(link)\n",
        "                    director, cast, story, total_rat = get_movie_info(link)\n",
        "                    st.markdown(director)\n",
        "                    st.markdown(cast)\n",
        "                    st.markdown(story)\n",
        "                    st.markdown(total_rat)\n",
        "                    st.markdown('IMDB Rating: ' + str(ratings) + '⭐')\n",
        "    elif cat_op == category[2]:\n",
        "        sel_gen = st.multiselect('Select Genres:', genres)\n",
        "        dec = st.radio(\"Want to Fetch Movie Poster?\", ('Yes', 'No'))\n",
        "        st.markdown(\n",
        "            '''<h4 style='text-align: left; color: #d73b5c;'>* Fetching a Movie Posters will take a time.\"</h4>''',\n",
        "            unsafe_allow_html=True)\n",
        "        if dec == 'No':\n",
        "            if sel_gen:\n",
        "                imdb_score = st.slider('Choose IMDb score:', 1, 10, 8)\n",
        "                no_of_reco = st.number_input('Number of movies:', min_value=5, max_value=20, step=1)\n",
        "                test_point = [1 if genre in sel_gen else 0 for genre in genres]\n",
        "                test_point.append(imdb_score)\n",
        "                table = KNN_Movie_Recommender(test_point, no_of_reco)\n",
        "                c = 0\n",
        "                st.success('Some of the movies from our Recommendation, have a look below')\n",
        "                for movie, link, ratings in table:\n",
        "                    c += 1\n",
        "                    st.markdown(f\"({c})[ {movie}]({link})\")\n",
        "                    director, cast, story, total_rat = get_movie_info(link)\n",
        "                    st.markdown(director)\n",
        "                    st.markdown(cast)\n",
        "                    st.markdown(story)\n",
        "                    st.markdown(total_rat)\n",
        "                    st.markdown('IMDB Rating: ' + str(ratings) + '⭐')\n",
        "        else:\n",
        "            if sel_gen:\n",
        "                imdb_score = st.slider('Choose IMDb score:', 1, 10, 8)\n",
        "                no_of_reco = st.number_input('Number of movies:', min_value=5, max_value=20, step=1)\n",
        "                test_point = [1 if genre in sel_gen else 0 for genre in genres]\n",
        "                test_point.append(imdb_score)\n",
        "                table = KNN_Movie_Recommender(test_point, no_of_reco)\n",
        "                c = 0\n",
        "                st.success('Some of the movies from our Recommendation, have a look below')\n",
        "                for movie, link, ratings in table:\n",
        "                    c += 1\n",
        "                    st.markdown(f\"({c})[ {movie}]({link})\")\n",
        "                    movie_poster_fetcher(link)\n",
        "                    director, cast, story, total_rat = get_movie_info(link)\n",
        "                    st.markdown(director)\n",
        "                    st.markdown(cast)\n",
        "                    st.markdown(story)\n",
        "                    st.markdown(total_rat)\n",
        "                    st.markdown('IMDB Rating: ' + str(ratings) + '⭐')\n",
        "\n",
        "\n",
        "run()"
      ],
      "metadata": {
        "id": "50Mej0dw_I9c"
      },
      "execution_count": null,
      "outputs": []
    }
  ]
}